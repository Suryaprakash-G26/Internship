{
 "cells": [
  {
   "cell_type": "code",
   "execution_count": 1,
   "id": "afe9c7c4",
   "metadata": {},
   "outputs": [],
   "source": [
    "# Question 1:"
   ]
  },
  {
   "cell_type": "code",
   "execution_count": 2,
   "id": "08b877a3",
   "metadata": {},
   "outputs": [],
   "source": [
    "import re"
   ]
  },
  {
   "cell_type": "code",
   "execution_count": 3,
   "id": "f4a3e6f1",
   "metadata": {},
   "outputs": [],
   "source": [
    "def ColonAdder(text):\n",
    "    for char in [' ', ',', '.']:\n",
    "        text = text.replace(char, ':')\n",
    "    return text\n"
   ]
  },
  {
   "cell_type": "code",
   "execution_count": 4,
   "id": "7656735a",
   "metadata": {},
   "outputs": [],
   "source": [
    "Sample = 'Python Exercises, PHP exercises.'\n"
   ]
  },
  {
   "cell_type": "code",
   "execution_count": 5,
   "id": "b7d6a7fd",
   "metadata": {},
   "outputs": [],
   "source": [
    "result = ColonAdder(Sample)\n"
   ]
  },
  {
   "cell_type": "code",
   "execution_count": 6,
   "id": "7dbf5492",
   "metadata": {},
   "outputs": [
    {
     "name": "stdout",
     "output_type": "stream",
     "text": [
      "Python:Exercises::PHP:exercises:\n"
     ]
    }
   ],
   "source": [
    "print(result)\n"
   ]
  },
  {
   "cell_type": "code",
   "execution_count": 7,
   "id": "ee86b6d4",
   "metadata": {},
   "outputs": [
    {
     "name": "stdout",
     "output_type": "stream",
     "text": [
      "Hi:dfgbn::dfvb\n"
     ]
    }
   ],
   "source": [
    "print(ColonAdder(\"Hi dfgbn  dfvb\"))"
   ]
  },
  {
   "cell_type": "code",
   "execution_count": 8,
   "id": "e4fd54b6",
   "metadata": {},
   "outputs": [],
   "source": [
    "#Question 2:\n"
   ]
  },
  {
   "cell_type": "code",
   "execution_count": 9,
   "id": "f6adb20a",
   "metadata": {},
   "outputs": [],
   "source": [
    "data = ['hello, world!', 'XXXXX test', '123four, five:; six...']"
   ]
  },
  {
   "cell_type": "code",
   "execution_count": 10,
   "id": "feb6700c",
   "metadata": {},
   "outputs": [],
   "source": [
    "array1 = [' '.join(re.findall(r'\\b\\w+\\b', re.sub(r'[^a-zA-Z\\s]', '', item))) for item in data]\n"
   ]
  },
  {
   "cell_type": "code",
   "execution_count": 11,
   "id": "9a4025fc",
   "metadata": {},
   "outputs": [
    {
     "name": "stdout",
     "output_type": "stream",
     "text": [
      "0 hello world\n",
      "1 XXXXX test\n",
      "2 four five six\n"
     ]
    }
   ],
   "source": [
    "for idx, item in enumerate(array1):\n",
    "    print(f\"{idx} {item}\")\n"
   ]
  },
  {
   "cell_type": "code",
   "execution_count": 12,
   "id": "af7835cc",
   "metadata": {},
   "outputs": [],
   "source": [
    "#Question 3\n"
   ]
  },
  {
   "cell_type": "code",
   "execution_count": 13,
   "id": "5b142493",
   "metadata": {},
   "outputs": [],
   "source": [
    "sentence=\"hi Surya lets try something out of this to check whether the function is executing perfectly, can we do it Right now?\""
   ]
  },
  {
   "cell_type": "code",
   "execution_count": 14,
   "id": "aa9c3bbc",
   "metadata": {},
   "outputs": [],
   "source": [
    "def fourCharacterString(inf):\n",
    "    finder=re.compile(r'\\b\\w{4,}\\b')\n",
    "    fourlongwords=finder.findall(inf)\n",
    "    return fourlongwords\n",
    "    "
   ]
  },
  {
   "cell_type": "code",
   "execution_count": 15,
   "id": "3bcd9539",
   "metadata": {},
   "outputs": [
    {
     "name": "stdout",
     "output_type": "stream",
     "text": [
      "['Surya', 'lets', 'something', 'this', 'check', 'whether', 'function', 'executing', 'perfectly', 'Right']\n"
     ]
    }
   ],
   "source": [
    "result=fourCharacterString(sentence)\n",
    "print(result)"
   ]
  },
  {
   "cell_type": "code",
   "execution_count": 16,
   "id": "3d322a1a",
   "metadata": {},
   "outputs": [],
   "source": [
    "#question 4"
   ]
  },
  {
   "cell_type": "code",
   "execution_count": 17,
   "id": "28b71017",
   "metadata": {},
   "outputs": [],
   "source": [
    "def threetofour(inf):\n",
    "    finder=re.compile(r'\\b\\w{3,5}\\b')\n",
    "    words=finder.findall(inf)\n",
    "    return words"
   ]
  },
  {
   "cell_type": "code",
   "execution_count": 18,
   "id": "03c03233",
   "metadata": {},
   "outputs": [
    {
     "name": "stdout",
     "output_type": "stream",
     "text": [
      "['Surya', 'lets', 'try', 'out', 'this', 'check', 'the', 'can', 'Right', 'now']\n"
     ]
    }
   ],
   "source": [
    "result=threetofour(sentence)\n",
    "print(result)"
   ]
  },
  {
   "cell_type": "code",
   "execution_count": 19,
   "id": "4413841b",
   "metadata": {},
   "outputs": [],
   "source": [
    "#question 5\n"
   ]
  },
  {
   "cell_type": "code",
   "execution_count": 20,
   "id": "f4eef357",
   "metadata": {},
   "outputs": [],
   "source": [
    "def RemoveParanthis(inf):\n",
    "    remove_paranthis = re.compile(r'[\\(\\)]')\n",
    "    without_paranthis = [re.sub(remove_paranthis, '', string) for string in inf]\n",
    "    return without_paranthis\n",
    "\n"
   ]
  },
  {
   "cell_type": "code",
   "execution_count": 21,
   "id": "570f8229",
   "metadata": {},
   "outputs": [
    {
     "name": "stdout",
     "output_type": "stream",
     "text": [
      "example .com\n",
      "hr@fliprobo .com\n",
      "github .com\n",
      "Hello Data Science World\n",
      "Data Scientist\n"
     ]
    }
   ],
   "source": [
    "sample = [\"example (.com)\", \"hr@fliprobo (.com)\", \"github (.com)\", \"Hello (Data Science World)\", \"Data (Scientist)\"]\n",
    "result = RemoveParanthis(sample)\n",
    "\n",
    "for data in result:\n",
    "    print(data)"
   ]
  },
  {
   "cell_type": "code",
   "execution_count": 22,
   "id": "684d00db",
   "metadata": {},
   "outputs": [],
   "source": [
    "#question 6\n"
   ]
  },
  {
   "cell_type": "code",
   "execution_count": 23,
   "id": "2ce076df",
   "metadata": {},
   "outputs": [],
   "source": [
    "def RemoveParanthisandContent(inf):\n",
    "    findparanthis = re.compile(r'\\s*\\([^)]*\\)\\s*')\n",
    "    withoutparanthis = [re.sub(findparanthis, '', string) for string in inf]\n",
    "    return withoutparanthis\n"
   ]
  },
  {
   "cell_type": "code",
   "execution_count": 24,
   "id": "26b264d5",
   "metadata": {},
   "outputs": [
    {
     "name": "stdout",
     "output_type": "stream",
     "text": [
      "example\n",
      "hr@fliprobo\n",
      "github\n",
      "Hello\n",
      "Data\n"
     ]
    }
   ],
   "source": [
    "sample = [\"example (.com)\", \"hr@fliprobo (.com)\", \"github (.com)\", \"Hello (Data Science World)\", \"Data (Scientist)\"]\n",
    "result = RemoveParanthisandContent(sample)\n",
    "\n",
    "for data in result:\n",
    "    print(data)"
   ]
  },
  {
   "cell_type": "code",
   "execution_count": 25,
   "id": "a1087136",
   "metadata": {},
   "outputs": [],
   "source": [
    "#question 7\n"
   ]
  },
  {
   "cell_type": "code",
   "execution_count": 26,
   "id": "8ce38a82",
   "metadata": {},
   "outputs": [
    {
     "name": "stdout",
     "output_type": "stream",
     "text": [
      "['Importance', 'Of', 'Regular', 'Expressions', 'In', 'Python']\n"
     ]
    }
   ],
   "source": [
    "Sampletext=\"ImportanceOfRegularExpressionsInPython\"\n",
    "result = re.findall('[A-Z][^A-Z]*', Sampletext)\n",
    "print(result)\n"
   ]
  },
  {
   "cell_type": "code",
   "execution_count": 27,
   "id": "12f9aa6c",
   "metadata": {},
   "outputs": [],
   "source": [
    "#question 8"
   ]
  },
  {
   "cell_type": "code",
   "execution_count": 28,
   "id": "f2f42cd1",
   "metadata": {},
   "outputs": [],
   "source": [
    "def InsertSpace(text):\n",
    "    finder =re.compile(r'(?<=[a-zA-Z])(?=\\d)')\n",
    "    SpacedLine = finder.sub(' ', text)\n",
    "    return SpacedLine"
   ]
  },
  {
   "cell_type": "code",
   "execution_count": 29,
   "id": "985537c6",
   "metadata": {},
   "outputs": [
    {
     "name": "stdout",
     "output_type": "stream",
     "text": [
      "RegularExpression 1IsAn 2ImportantTopic 3InPython\n"
     ]
    }
   ],
   "source": [
    "sampletext=\"RegularExpression1IsAn2ImportantTopic3InPython\"\n",
    "result = InsertSpace(sampletext)\n",
    "print(result)"
   ]
  },
  {
   "cell_type": "code",
   "execution_count": 30,
   "id": "a183c3d2",
   "metadata": {},
   "outputs": [],
   "source": [
    "#question 9\n"
   ]
  },
  {
   "cell_type": "code",
   "execution_count": 31,
   "id": "85447c3b",
   "metadata": {},
   "outputs": [],
   "source": [
    "def InsertSpaceonNumber(text):\n",
    "    finder = re.compile(r'(?<=[a-z0-9])(?=[A-Z])|(?<=[A-Z])(?=[0-9])')\n",
    "    SpacedLine = finder.sub(' ', text)\n",
    "    return SpacedLine"
   ]
  },
  {
   "cell_type": "code",
   "execution_count": 32,
   "id": "4bdb2c0d",
   "metadata": {},
   "outputs": [
    {
     "name": "stdout",
     "output_type": "stream",
     "text": [
      "Regular Expression1 Is An2 Important Topic3 In Python\n"
     ]
    }
   ],
   "source": [
    "sampletext=\"RegularExpression1IsAn2ImportantTopic3InPython\"\n",
    "result = InsertSpaceonNumber(sampletext)\n",
    "print(result)"
   ]
  },
  {
   "cell_type": "code",
   "execution_count": 33,
   "id": "80bb4df3",
   "metadata": {},
   "outputs": [],
   "source": [
    "#question 10"
   ]
  },
  {
   "cell_type": "code",
   "execution_count": 34,
   "id": "8c57dac7",
   "metadata": {},
   "outputs": [
    {
     "name": "stdout",
     "output_type": "stream",
     "text": [
      "         Country firstFiveLetters\n",
      "0    Switzerland           Switze\n",
      "1        Iceland           Icelan\n",
      "2        Denmark           Denmar\n",
      "3         Norway           Norway\n",
      "4         Canada           Canada\n",
      "..           ...              ...\n",
      "153       Rwanda           Rwanda\n",
      "154        Benin            Benin\n",
      "155        Syria            Syria\n",
      "156      Burundi           Burund\n",
      "157         Togo             Togo\n",
      "\n",
      "[158 rows x 2 columns]\n"
     ]
    }
   ],
   "source": [
    "import pandas as pd\n",
    "\n",
    "Link = \"https://raw.githubusercontent.com/dsrscientist/DSData/master/happiness_score_dataset.csv\"\n",
    "\n",
    "dataframe = pd.read_csv(Link)\n",
    "\n",
    "dataframe['firstFiveLetters'] = dataframe['Country'].str[:6]\n",
    "\n",
    "print(dataframe[['Country', 'firstFiveLetters']])\n"
   ]
  },
  {
   "cell_type": "code",
   "execution_count": 35,
   "id": "48a29124",
   "metadata": {},
   "outputs": [],
   "source": [
    "#question 11"
   ]
  },
  {
   "cell_type": "code",
   "execution_count": 36,
   "id": "8fa42338",
   "metadata": {},
   "outputs": [],
   "source": [
    "def ValidString(inf):\n",
    "    finder = re.compile(r'^[a-zA-Z0-9_]+$')\n",
    "    match = finder.match(inf)\n",
    "    return bool(match)"
   ]
  },
  {
   "cell_type": "code",
   "execution_count": 37,
   "id": "525bb985",
   "metadata": {},
   "outputs": [
    {
     "name": "stdout",
     "output_type": "stream",
     "text": [
      "True\n"
     ]
    }
   ],
   "source": [
    "Valid = \"CheckFor_true\"\n",
    "print(ValidString(Valid))"
   ]
  },
  {
   "cell_type": "code",
   "execution_count": 38,
   "id": "001b549b",
   "metadata": {},
   "outputs": [
    {
     "name": "stdout",
     "output_type": "stream",
     "text": [
      "False\n"
     ]
    }
   ],
   "source": [
    "InValid = \"Check for false\"\n",
    "print(ValidString(InValid))"
   ]
  },
  {
   "cell_type": "code",
   "execution_count": 39,
   "id": "80797455",
   "metadata": {},
   "outputs": [],
   "source": [
    "#question 12"
   ]
  },
  {
   "cell_type": "code",
   "execution_count": 40,
   "id": "2aa49f51",
   "metadata": {},
   "outputs": [],
   "source": [
    "def CheckwithNumber(inf,num):\n",
    "    finder =re.compile(f'^{num}')\n",
    "    match = finder.match(inf)\n",
    "    return bool(match)  "
   ]
  },
  {
   "cell_type": "code",
   "execution_count": 41,
   "id": "353fa920",
   "metadata": {},
   "outputs": [
    {
     "name": "stdout",
     "output_type": "stream",
     "text": [
      "False\n"
     ]
    }
   ],
   "source": [
    "check1=\"26Surya\"\n",
    "number=12\n",
    "print(CheckwithNumber(check1,number))"
   ]
  },
  {
   "cell_type": "code",
   "execution_count": 42,
   "id": "a9cbcf00",
   "metadata": {},
   "outputs": [
    {
     "name": "stdout",
     "output_type": "stream",
     "text": [
      "True\n"
     ]
    }
   ],
   "source": [
    "check2=\"12Devil\"\n",
    "number=12\n",
    "print(CheckwithNumber(check2,number))"
   ]
  },
  {
   "cell_type": "code",
   "execution_count": 43,
   "id": "6dcd669b",
   "metadata": {},
   "outputs": [],
   "source": [
    "#question 13"
   ]
  },
  {
   "cell_type": "code",
   "execution_count": 44,
   "id": "4844837a",
   "metadata": {},
   "outputs": [],
   "source": [
    "def clearIP(ip):\n",
    "    finder = re.compile(r'(\\b|\\.)(0*\\d+)')\n",
    "    newIp = finder.sub(lambda match: match.group(1) + str(int(match.group(2))), ip)\n",
    "    return newIp"
   ]
  },
  {
   "cell_type": "code",
   "execution_count": 45,
   "id": "44d3416c",
   "metadata": {},
   "outputs": [
    {
     "name": "stdout",
     "output_type": "stream",
     "text": [
      "192.0.12.1\n"
     ]
    }
   ],
   "source": [
    "Ip=\"192.000.012.001\"\n",
    "print(clearIP(Ip))"
   ]
  },
  {
   "cell_type": "code",
   "execution_count": 46,
   "id": "18759c9c",
   "metadata": {},
   "outputs": [],
   "source": [
    "#question 14"
   ]
  },
  {
   "cell_type": "code",
   "execution_count": 47,
   "id": "6a785b01",
   "metadata": {},
   "outputs": [
    {
     "name": "stdout",
     "output_type": "stream",
     "text": [
      "Enter the filename: date.txt\n",
      "['August 15th 1947']\n"
     ]
    }
   ],
   "source": [
    "DateCheck = re.compile(r'\\b(?:January|February|March|April|May|June|July|August|September|October|November|December)\\s+\\d{1,2}(?:st|nd|rd|th)\\s+\\d{4}\\b')\n",
    "\n",
    "try:\n",
    "    filename = input(\"Enter the filename: \")\n",
    "    with open(filename, 'r') as file:\n",
    "        content = file.read()\n",
    "        matches = DateCheck.findall(content)\n",
    "\n",
    "    print(matches)\n",
    "except FileNotFoundError:\n",
    "    print(f\"File '{filename}' not found. Make sure the file exists in the correct location.\")\n"
   ]
  },
  {
   "cell_type": "code",
   "execution_count": 48,
   "id": "f5134cfe",
   "metadata": {},
   "outputs": [],
   "source": [
    "#question 15"
   ]
  },
  {
   "cell_type": "code",
   "execution_count": 49,
   "id": "c79f7272",
   "metadata": {},
   "outputs": [],
   "source": [
    "def FindSpecificWord(data, specific):\n",
    "    for word in specific:\n",
    "        if word in data:\n",
    "            print(f'{word} found in the text.')\n",
    "        else:\n",
    "            print(f'{word} not found in the text.')"
   ]
  },
  {
   "cell_type": "code",
   "execution_count": 50,
   "id": "38ef6862",
   "metadata": {},
   "outputs": [
    {
     "name": "stdout",
     "output_type": "stream",
     "text": [
      "fox found in the text.\n",
      "dog found in the text.\n",
      "horse not found in the text.\n"
     ]
    }
   ],
   "source": [
    "Sample = 'The quick brown fox jumps over the lazy dog.'\n",
    "Find = ['fox', 'dog', 'horse']\n",
    "\n",
    "FindSpecificWord(Sample,Find)"
   ]
  },
  {
   "cell_type": "code",
   "execution_count": 51,
   "id": "fe333cac",
   "metadata": {},
   "outputs": [],
   "source": [
    "#question 16"
   ]
  },
  {
   "cell_type": "code",
   "execution_count": 52,
   "id": "2d2085d7",
   "metadata": {},
   "outputs": [],
   "source": [
    "def FindWordLocation(text, word):\n",
    "    index = text.find(word)\n",
    "    if index != -1:\n",
    "        print(f'{word} found in the text at position {index}.')\n",
    "    else:\n",
    "        print(f'{word} not found in the text.')"
   ]
  },
  {
   "cell_type": "code",
   "execution_count": 53,
   "id": "1a0ce54d",
   "metadata": {},
   "outputs": [
    {
     "name": "stdout",
     "output_type": "stream",
     "text": [
      "fox found in the text at position 16.\n"
     ]
    }
   ],
   "source": [
    "Sample = 'The quick brown fox jumps over the lazy dog.'\n",
    "Find = 'fox'\n",
    "\n",
    "FindWordLocation(Sample,Find)"
   ]
  },
  {
   "cell_type": "code",
   "execution_count": 54,
   "id": "e73fe448",
   "metadata": {},
   "outputs": [],
   "source": [
    "#question 17"
   ]
  },
  {
   "cell_type": "code",
   "execution_count": 55,
   "id": "b82d258a",
   "metadata": {},
   "outputs": [],
   "source": [
    "def findSubStrings(data, find):\n",
    "    Start = 0\n",
    "    while Start < len(data):\n",
    "        index = data.find(find, Start)\n",
    "        if index == -1:\n",
    "            break\n",
    "        print(f\"'{find}' found at position {index}.\")\n",
    "        Start = index + 1"
   ]
  },
  {
   "cell_type": "code",
   "execution_count": 56,
   "id": "cf27f589",
   "metadata": {},
   "outputs": [
    {
     "name": "stdout",
     "output_type": "stream",
     "text": [
      "'exercises' found at position 7.\n",
      "'exercises' found at position 22.\n",
      "'exercises' found at position 36.\n"
     ]
    }
   ],
   "source": [
    "Sample = 'Python exercises, PHP exercises, C# exercises'\n",
    "Find = 'exercises'\n",
    "\n",
    "findSubStrings(Sample,Find)"
   ]
  },
  {
   "cell_type": "code",
   "execution_count": 57,
   "id": "414579ef",
   "metadata": {},
   "outputs": [],
   "source": [
    "#question 18"
   ]
  },
  {
   "cell_type": "code",
   "execution_count": 58,
   "id": "af84edc1",
   "metadata": {},
   "outputs": [],
   "source": [
    "def findOccurrencesandPositions(Data, find):\n",
    "    Start = 0\n",
    "    occurrences = 0\n",
    "\n",
    "    while Start < len(Data):\n",
    "        index = Data.find(find, Start)\n",
    "        if index == -1:\n",
    "            break\n",
    "        print(f\"'{find}' found at position {index}.\")\n",
    "        occurrences += 1\n",
    "        Start = index + 1\n",
    "\n",
    "    print(f\"Total occurrences of '{find}': {occurrences}\")"
   ]
  },
  {
   "cell_type": "code",
   "execution_count": 59,
   "id": "e27fe10c",
   "metadata": {},
   "outputs": [
    {
     "name": "stdout",
     "output_type": "stream",
     "text": [
      "'exercises' found at position 7.\n",
      "'exercises' found at position 22.\n",
      "'exercises' found at position 36.\n",
      "Total occurrences of 'exercises': 3\n"
     ]
    }
   ],
   "source": [
    "Sample = 'Python exercises, PHP exercises, C# exercises'\n",
    "Find = 'exercises'\n",
    "\n",
    "findOccurrencesandPositions(Sample,Find)"
   ]
  },
  {
   "cell_type": "code",
   "execution_count": 60,
   "id": "c8a3cf46",
   "metadata": {},
   "outputs": [],
   "source": [
    "#question 19"
   ]
  },
  {
   "cell_type": "code",
   "execution_count": 61,
   "id": "006a0663",
   "metadata": {},
   "outputs": [],
   "source": [
    "from datetime import datetime\n",
    "\n",
    "def convertDateFormat(Date):\n",
    "    EnteredDate = datetime.strptime(Date, '%Y-%m-%d')\n",
    "    FormattedDate = EnteredDate.strftime('%d-%m-%Y')\n",
    "    return FormattedDate"
   ]
  },
  {
   "cell_type": "code",
   "execution_count": 62,
   "id": "b98cbb75",
   "metadata": {},
   "outputs": [
    {
     "name": "stdout",
     "output_type": "stream",
     "text": [
      "03-02-2022\n"
     ]
    }
   ],
   "source": [
    "date='2022-02-03'\n",
    "print(convertDateFormat(date))"
   ]
  },
  {
   "cell_type": "code",
   "execution_count": 63,
   "id": "65a354b8",
   "metadata": {},
   "outputs": [],
   "source": [
    "#question 20"
   ]
  },
  {
   "cell_type": "code",
   "execution_count": 64,
   "id": "1345345b",
   "metadata": {},
   "outputs": [],
   "source": [
    "def findDecimalNumbers(data):\n",
    "    finder = re.compile(r'\\b\\d+\\.\\d{1,2}\\b')\n",
    "    matches = finder.findall(data)\n",
    "    return matches"
   ]
  },
  {
   "cell_type": "code",
   "execution_count": 65,
   "id": "5b3bb697",
   "metadata": {},
   "outputs": [
    {
     "name": "stdout",
     "output_type": "stream",
     "text": [
      "['01.12', '145.8', '3.01', '27.25', '0.25']\n"
     ]
    }
   ],
   "source": [
    "Sample=\"01.12 0132.123 2.31875 145.8 3.01 27.25 0.25\"\n",
    "print(findDecimalNumbers(Sample))"
   ]
  },
  {
   "cell_type": "code",
   "execution_count": 66,
   "id": "587bcb67",
   "metadata": {},
   "outputs": [],
   "source": [
    "#question 21"
   ]
  },
  {
   "cell_type": "code",
   "execution_count": 67,
   "id": "ced3c59c",
   "metadata": {},
   "outputs": [],
   "source": [
    "def SeparateNumbersAndPositions(input_string):\n",
    "    numbers = []\n",
    "    \n",
    "    for position, char in enumerate(input_string):\n",
    "        if char.isdigit():\n",
    "            start = position\n",
    "            while position + 1 < len(input_string) and input_string[position + 1].isdigit():\n",
    "                position += 1\n",
    "            end = position + 1\n",
    "            numbers.append((input_string[start:end], start))\n",
    "\n",
    "    return numbers"
   ]
  },
  {
   "cell_type": "code",
   "execution_count": 68,
   "id": "7f9016c3",
   "metadata": {},
   "outputs": [
    {
     "name": "stdout",
     "output_type": "stream",
     "text": [
      "[('23', 0), ('3', 1), ('234', 6), ('34', 7), ('4', 8), ('345678', 14), ('45678', 15), ('5678', 16), ('678', 17), ('78', 18), ('8', 19), ('345678', 28), ('45678', 29), ('5678', 30), ('678', 31), ('78', 32), ('8', 33), ('345', 41), ('45', 42), ('5', 43), ('6', 47), ('5', 50), ('5', 53), ('834566', 55), ('34566', 56), ('4566', 57), ('566', 58), ('66', 59), ('6', 60), ('83456', 68), ('3456', 69), ('456', 70), ('56', 71), ('6', 72), ('6', 74), ('5', 78), ('4', 80), ('9456', 84), ('456', 85), ('56', 86), ('6', 87), ('6', 89), ('5', 92)]\n"
     ]
    }
   ],
   "source": [
    "sample=\"23erew234rtrew345678iujhgfew345678iuytrew345yuk6mh5fe5w834566yujhgfe83456y6ujk5h4gre9456y6uj5nbg\"\n",
    "print(SeparateNumbersAndPositions(sample))"
   ]
  },
  {
   "cell_type": "code",
   "execution_count": 69,
   "id": "66c56d16",
   "metadata": {},
   "outputs": [],
   "source": [
    "#question 22"
   ]
  },
  {
   "cell_type": "code",
   "execution_count": 70,
   "id": "54597282",
   "metadata": {},
   "outputs": [],
   "source": [
    "def FindMaxNumber(Data):\n",
    "    numbers = [int(match) for match in re.findall(r'\\b\\d+\\b', Data)]\n",
    "    if numbers:\n",
    "        Max = max(numbers)\n",
    "        return Max\n",
    "    else:\n",
    "        return None"
   ]
  },
  {
   "cell_type": "code",
   "execution_count": 71,
   "id": "35c4c004",
   "metadata": {},
   "outputs": [
    {
     "name": "stdout",
     "output_type": "stream",
     "text": [
      "950\n"
     ]
    }
   ],
   "source": [
    "sample='My marks in each semester are: 947, 896, 926, 524, 734, 950, 642'\n",
    "print(FindMaxNumber(sample))"
   ]
  },
  {
   "cell_type": "code",
   "execution_count": 72,
   "id": "dc79bdf4",
   "metadata": {},
   "outputs": [],
   "source": [
    "#question 23"
   ]
  },
  {
   "cell_type": "code",
   "execution_count": 73,
   "id": "43a676c3",
   "metadata": {},
   "outputs": [],
   "source": [
    "def SpaceBtwCapital(data):\n",
    "    words = re.findall(r'[A-Z][a-z]*', data)\n",
    "    Space = ' '.join(words)\n",
    "    return Space"
   ]
  },
  {
   "cell_type": "code",
   "execution_count": 74,
   "id": "ca0fcf3a",
   "metadata": {},
   "outputs": [
    {
     "name": "stdout",
     "output_type": "stream",
     "text": [
      "Regular Expression Is An Important Topic In Python\n"
     ]
    }
   ],
   "source": [
    "sample='RegularExpressionIsAnImportantTopicInPython'\n",
    "print(SpaceBtwCapital(sample))"
   ]
  },
  {
   "cell_type": "code",
   "execution_count": 75,
   "id": "508c3642",
   "metadata": {},
   "outputs": [],
   "source": [
    "#question 24"
   ]
  },
  {
   "cell_type": "code",
   "execution_count": 76,
   "id": "299b74ea",
   "metadata": {},
   "outputs": [],
   "source": [
    "def CapitalAndSmall(data):\n",
    "    finder = re.compile(r'[A-Z][a-z]+')\n",
    "    answer = finder.findall(data)\n",
    "    return answer"
   ]
  },
  {
   "cell_type": "code",
   "execution_count": 77,
   "id": "f776933e",
   "metadata": {},
   "outputs": [
    {
     "name": "stdout",
     "output_type": "stream",
     "text": [
      "['Dwd', 'Wqswdswqe', 'Cascd', 'Ffewewdfv', 'Fbfsdswdfvvscdfv', 'Gdv']\n"
     ]
    }
   ],
   "source": [
    "sample=\"asASDwdSWDDEWqswdswqeDCascdWDFfewewdfvWQWEDFVCXSEFbfsdswdfvvscdfvBGGdv\"\n",
    "print(CapitalAndSmall(sample))"
   ]
  },
  {
   "cell_type": "code",
   "execution_count": 78,
   "id": "1569e4c3",
   "metadata": {},
   "outputs": [],
   "source": [
    "#question 25"
   ]
  },
  {
   "cell_type": "code",
   "execution_count": 79,
   "id": "f6d33a3d",
   "metadata": {},
   "outputs": [],
   "source": [
    "def RemoveDuplicate(data):\n",
    "    finder = re.compile(r'\\b(\\w+)\\b(\\s+\\1\\b)+')\n",
    "    Removed = finder.sub(r'\\1', data)\n",
    "    return Removed"
   ]
  },
  {
   "cell_type": "code",
   "execution_count": 80,
   "id": "1e683bee",
   "metadata": {},
   "outputs": [
    {
     "name": "stdout",
     "output_type": "stream",
     "text": [
      "hello world\n"
     ]
    }
   ],
   "source": [
    "sample='hello hello world world'\n",
    "print(RemoveDuplicate(sample))"
   ]
  },
  {
   "cell_type": "code",
   "execution_count": 81,
   "id": "0670db47",
   "metadata": {},
   "outputs": [],
   "source": [
    "#question 26"
   ]
  },
  {
   "cell_type": "code",
   "execution_count": 82,
   "id": "d7e6ca06",
   "metadata": {},
   "outputs": [],
   "source": [
    "def EndsWithAlphanumeric(data):\n",
    "    finder = re.compile(r'\\w$')\n",
    "    return bool(finder.search(data))"
   ]
  },
  {
   "cell_type": "code",
   "execution_count": 83,
   "id": "b74b2b8a",
   "metadata": {},
   "outputs": [
    {
     "name": "stdout",
     "output_type": "stream",
     "text": [
      "True\n"
     ]
    }
   ],
   "source": [
    "sample=\"asde1234\"\n",
    "print(EndsWithAlphanumeric(sample))"
   ]
  },
  {
   "cell_type": "code",
   "execution_count": 84,
   "id": "00f6d115",
   "metadata": {},
   "outputs": [],
   "source": [
    "#question 27"
   ]
  },
  {
   "cell_type": "code",
   "execution_count": 85,
   "id": "11b5e36f",
   "metadata": {},
   "outputs": [],
   "source": [
    "def FindHastags(data):\n",
    "    finder = re.compile(r'#\\w+')\n",
    "    hashtags = finder.findall(data)\n",
    "    return hashtags"
   ]
  },
  {
   "cell_type": "code",
   "execution_count": 86,
   "id": "e91492e2",
   "metadata": {},
   "outputs": [
    {
     "name": "stdout",
     "output_type": "stream",
     "text": [
      "['#surya', '#walk', '#beach']\n"
     ]
    }
   ],
   "source": [
    "sample=\"hi #surya lets go for a small #walk in the #beach\"\n",
    "print(FindHastags(sample))"
   ]
  },
  {
   "cell_type": "code",
   "execution_count": 87,
   "id": "802669e8",
   "metadata": {},
   "outputs": [],
   "source": [
    "#question 28"
   ]
  },
  {
   "cell_type": "code",
   "execution_count": 88,
   "id": "5ab4d48c",
   "metadata": {},
   "outputs": [],
   "source": [
    "def RemoveSymbols(data):\n",
    "    finder = re.compile(r'<U\\+[0-9A-Fa-f]+>')\n",
    "    Formatted = finder.sub('', data)\n",
    "    return Formatted"
   ]
  },
  {
   "cell_type": "code",
   "execution_count": 89,
   "id": "f0af699f",
   "metadata": {},
   "outputs": [
    {
     "name": "stdout",
     "output_type": "stream",
     "text": [
      "@Jags123456 Bharat band on 28??<ed><ed>Those who  are protesting #demonetization  are all different party leaders\n"
     ]
    }
   ],
   "source": [
    "sample=\"@Jags123456 Bharat band on 28??<ed><U+00A0><U+00BD><ed><U+00B8><U+0082>Those who  are protesting #demonetization  are all different party leaders\"\n",
    "print(RemoveSymbols(sample))"
   ]
  },
  {
   "cell_type": "code",
   "execution_count": 90,
   "id": "db7a7dbd",
   "metadata": {},
   "outputs": [],
   "source": [
    "#question 29"
   ]
  },
  {
   "cell_type": "code",
   "execution_count": 91,
   "id": "8c0af44f",
   "metadata": {},
   "outputs": [
    {
     "name": "stdout",
     "output_type": "stream",
     "text": [
      "Enter the filename: date.txt\n",
      "Extracted Dates: ['August 15th 1947', '12-09-1992', '15-12-1999']\n"
     ]
    }
   ],
   "source": [
    "DateCheck = re.compile(r'\\b(?:January|February|March|April|May|June|July|August|September|October|November|December)\\s+\\d{1,2}(?:st|nd|rd|th)?\\s+\\d{4}\\b|\\b\\d{1,2}-\\d{1,2}-\\d{4}\\b')\n",
    "\n",
    "try:\n",
    "    filename = input(\"Enter the filename: \")\n",
    "    with open(filename, 'r') as file:\n",
    "        content = file.read()\n",
    "        matches = DateCheck.findall(content)\n",
    "\n",
    "    print(\"Extracted Dates:\", matches)\n",
    "except FileNotFoundError:\n",
    "    print(f\"File '{filename}' not found. Make sure the file exists in the correct location.\")\n"
   ]
  },
  {
   "cell_type": "code",
   "execution_count": 92,
   "id": "3967eef8",
   "metadata": {},
   "outputs": [],
   "source": [
    "#question 30"
   ]
  },
  {
   "cell_type": "code",
   "execution_count": 93,
   "id": "5cd2a9c5",
   "metadata": {},
   "outputs": [],
   "source": [
    "def Removewords(text):\n",
    "    pattern = re.compile(r'\\b\\w{2,4}\\b')\n",
    "    result = pattern.sub('', text)\n",
    "    return result"
   ]
  },
  {
   "cell_type": "code",
   "execution_count": 94,
   "id": "71f78d9e",
   "metadata": {},
   "outputs": [
    {
     "name": "stdout",
     "output_type": "stream",
     "text": [
      " following example creates  ArrayList  a capacity   elements. 4 elements   added   ArrayList   ArrayList  trimmed accordingly\n"
     ]
    }
   ],
   "source": [
    "sample='The following example creates an ArrayList with a capacity of 50 elements. 4 elements are then added to the ArrayList and the ArrayList is trimmed accordingly'\n",
    "print(Removewords(sample))"
   ]
  },
  {
   "cell_type": "code",
   "execution_count": null,
   "id": "bcc69ab5",
   "metadata": {},
   "outputs": [],
   "source": []
  },
  {
   "cell_type": "code",
   "execution_count": null,
   "id": "b8139dff",
   "metadata": {},
   "outputs": [],
   "source": []
  },
  {
   "cell_type": "code",
   "execution_count": null,
   "id": "cca882a2",
   "metadata": {},
   "outputs": [],
   "source": []
  }
 ],
 "metadata": {
  "kernelspec": {
   "display_name": "Python 3 (ipykernel)",
   "language": "python",
   "name": "python3"
  },
  "language_info": {
   "codemirror_mode": {
    "name": "ipython",
    "version": 3
   },
   "file_extension": ".py",
   "mimetype": "text/x-python",
   "name": "python",
   "nbconvert_exporter": "python",
   "pygments_lexer": "ipython3",
   "version": "3.11.5"
  }
 },
 "nbformat": 4,
 "nbformat_minor": 5
}
